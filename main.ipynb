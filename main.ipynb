{
 "cells": [
  {
   "cell_type": "code",
   "execution_count": 27,
   "id": "9035cdbf",
   "metadata": {},
   "outputs": [],
   "source": [
    "%config IPCompleter.use_jedi=False\n",
    "\n",
    "import pandas as pd\n",
    "import numpy as np\n",
    "import matplotlib.pyplot as plt\n",
    "%matplotlib inline"
   ]
  },
  {
   "cell_type": "markdown",
   "id": "1a0582c7",
   "metadata": {},
   "source": [
    "El objetivo de esta práctica es trabajar con algunas de las técnicas de selección de características estudiadas en  las sesiones teóricas utilizando scikit learn.\n",
    "\n",
    "Se propone el estudio de la selección mediante filtros. Para ello, se presenta un ejemplo completo de selección de características en el caso de predictores categóricos y respuesta categórica. El ejemplo incluye:\n",
    "\n",
    "* Lectura de un dataset\n",
    "* Codificación del dataset\n",
    "* Selección de características usando $\\chi^{2}$\n",
    "* Selección de características usando *mutual information*\n",
    "* Comparación de ambas selecciones usando un modelo de test\n",
    "\n",
    "La tarea propuesta consiste en completar los otros dos casos propuestos en este block de notas (notebook) de manera análoga al caso anteriormente expuesto.\n",
    "\n",
    "Para ello será necesario estudiar y comprender el caso resuelto y usar la documentación de scikitlearn para resolver los dos casos pendientes:\n",
    "* Predictores numéricos, respuesta categórica\n",
    "* Predictores numéricos, respuesta numérica\n",
    "\n",
    "El entregable de esta tarea consistirá en un libro de notas (notebook), con los siguientes requisitos, completado por el estudiante:\n",
    "\n",
    "* Código para resolver los casos propuestos\n",
    "* Comentarios al código en **todos** los casos (incluido el ejemplo que está resuelto)\n",
    "\n"
   ]
  },
  {
   "cell_type": "markdown",
   "id": "afa88c96",
   "metadata": {},
   "source": [
    "# Filtros"
   ]
  },
  {
   "cell_type": "markdown",
   "id": "04c94cf4",
   "metadata": {
    "heading_collapsed": true
   },
   "source": [
    "## Predictores categóricos, respuesta categórica\n",
    "\n",
    "dataset: `breast-cancer`"
   ]
  },
  {
   "cell_type": "markdown",
   "id": "37de6100",
   "metadata": {
    "heading_collapsed": true,
    "hidden": true
   },
   "source": [
    "### Lectura y codificación del dataset"
   ]
  },
  {
   "cell_type": "code",
   "execution_count": 28,
   "id": "a0c620c5",
   "metadata": {
    "hidden": true
   },
   "outputs": [],
   "source": [
    "# example of mutual information feature selection for categorical data\n",
    "from pandas import read_csv\n",
    "from sklearn.model_selection import train_test_split\n",
    "from sklearn.preprocessing import LabelEncoder\n",
    "from sklearn.preprocessing import OrdinalEncoder\n",
    "from sklearn.feature_selection import SelectKBest\n",
    "from sklearn.feature_selection import mutual_info_classif\n",
    "from matplotlib import pyplot\n",
    "\n",
    "# load the dataset\n",
    "def load_dataset(filename):\n",
    "    # load the dataset as a pandas DataFrame\n",
    "    data = read_csv(filename, header=None)\n",
    "    # retrieve numpy array\n",
    "    dataset = data.values\n",
    "    # split into input (X) and output (y) variables\n",
    "    X = dataset[:, :-1]\n",
    "    y = dataset[:,-1]\n",
    "    # format all fields as string\n",
    "    X = X.astype(str)\n",
    "    return X, y\n",
    "\n",
    "# prepare input data\n",
    "def prepare_inputs(X_train, X_test):\n",
    "    oe = OrdinalEncoder()\n",
    "    oe.fit(X_train)\n",
    "    X_train_enc = oe.transform(X_train)\n",
    "    X_test_enc = oe.transform(X_test)\n",
    "    return X_train_enc, X_test_enc\n",
    "\n",
    "# prepare target\n",
    "def prepare_targets(y_train, y_test):\n",
    "    le = LabelEncoder()\n",
    "    le.fit(y_train)\n",
    "    y_train_enc = le.transform(y_train)\n",
    "    y_test_enc = le.transform(y_test)\n",
    "    return y_train_enc, y_test_enc\n",
    "\n",
    "\n",
    "# load the dataset\n",
    "X, y = load_dataset('./datos/'+'breast-cancer.csv')\n",
    "# split into train and test sets\n",
    "X_train, X_test, y_train, y_test = train_test_split(X, y, test_size=0.33, random_state=1)\n",
    "# prepare input data\n",
    "X_train_enc, X_test_enc = prepare_inputs(X_train, X_test)\n",
    "# prepare output data\n",
    "y_train_enc, y_test_enc = prepare_targets(y_train, y_test)"
   ]
  },
  {
   "cell_type": "code",
   "execution_count": 29,
   "id": "3cc41f07",
   "metadata": {
    "hidden": true
   },
   "outputs": [
    {
     "data": {
      "text/html": [
       "<div>\n",
       "<style scoped>\n",
       "    .dataframe tbody tr th:only-of-type {\n",
       "        vertical-align: middle;\n",
       "    }\n",
       "\n",
       "    .dataframe tbody tr th {\n",
       "        vertical-align: top;\n",
       "    }\n",
       "\n",
       "    .dataframe thead th {\n",
       "        text-align: right;\n",
       "    }\n",
       "</style>\n",
       "<table border=\"1\" class=\"dataframe\">\n",
       "  <thead>\n",
       "    <tr style=\"text-align: right;\">\n",
       "      <th></th>\n",
       "      <th>age</th>\n",
       "      <th>menopause</th>\n",
       "      <th>tumor-size</th>\n",
       "      <th>inv-nodes</th>\n",
       "      <th>node-caps</th>\n",
       "      <th>deg-malig</th>\n",
       "      <th>breast</th>\n",
       "      <th>breast-quad</th>\n",
       "      <th>Class</th>\n",
       "    </tr>\n",
       "  </thead>\n",
       "  <tbody>\n",
       "    <tr>\n",
       "      <th>0</th>\n",
       "      <td>'50-59'</td>\n",
       "      <td>'ge40'</td>\n",
       "      <td>'25-29'</td>\n",
       "      <td>'0-2'</td>\n",
       "      <td>'no'</td>\n",
       "      <td>'1'</td>\n",
       "      <td>'left'</td>\n",
       "      <td>'right_low'</td>\n",
       "      <td>'no'</td>\n",
       "    </tr>\n",
       "    <tr>\n",
       "      <th>1</th>\n",
       "      <td>'30-39'</td>\n",
       "      <td>'premeno'</td>\n",
       "      <td>'5-9'</td>\n",
       "      <td>'0-2'</td>\n",
       "      <td>'no'</td>\n",
       "      <td>'2'</td>\n",
       "      <td>'left'</td>\n",
       "      <td>'right_low'</td>\n",
       "      <td>'no'</td>\n",
       "    </tr>\n",
       "    <tr>\n",
       "      <th>2</th>\n",
       "      <td>'50-59'</td>\n",
       "      <td>'premeno'</td>\n",
       "      <td>'50-54'</td>\n",
       "      <td>'0-2'</td>\n",
       "      <td>'yes'</td>\n",
       "      <td>'2'</td>\n",
       "      <td>'right'</td>\n",
       "      <td>'left_up'</td>\n",
       "      <td>'yes'</td>\n",
       "    </tr>\n",
       "    <tr>\n",
       "      <th>3</th>\n",
       "      <td>'30-39'</td>\n",
       "      <td>'premeno'</td>\n",
       "      <td>'25-29'</td>\n",
       "      <td>'0-2'</td>\n",
       "      <td>'no'</td>\n",
       "      <td>'1'</td>\n",
       "      <td>'left'</td>\n",
       "      <td>'central'</td>\n",
       "      <td>'no'</td>\n",
       "    </tr>\n",
       "    <tr>\n",
       "      <th>4</th>\n",
       "      <td>'40-49'</td>\n",
       "      <td>'premeno'</td>\n",
       "      <td>'20-24'</td>\n",
       "      <td>'0-2'</td>\n",
       "      <td>'no'</td>\n",
       "      <td>'2'</td>\n",
       "      <td>'right'</td>\n",
       "      <td>'right_up'</td>\n",
       "      <td>'no'</td>\n",
       "    </tr>\n",
       "    <tr>\n",
       "      <th>...</th>\n",
       "      <td>...</td>\n",
       "      <td>...</td>\n",
       "      <td>...</td>\n",
       "      <td>...</td>\n",
       "      <td>...</td>\n",
       "      <td>...</td>\n",
       "      <td>...</td>\n",
       "      <td>...</td>\n",
       "      <td>...</td>\n",
       "    </tr>\n",
       "    <tr>\n",
       "      <th>186</th>\n",
       "      <td>'40-49'</td>\n",
       "      <td>'premeno'</td>\n",
       "      <td>'25-29'</td>\n",
       "      <td>'0-2'</td>\n",
       "      <td>'no'</td>\n",
       "      <td>'1'</td>\n",
       "      <td>'right'</td>\n",
       "      <td>'right_low'</td>\n",
       "      <td>'no'</td>\n",
       "    </tr>\n",
       "    <tr>\n",
       "      <th>187</th>\n",
       "      <td>'50-59'</td>\n",
       "      <td>'premeno'</td>\n",
       "      <td>'25-29'</td>\n",
       "      <td>'0-2'</td>\n",
       "      <td>'no'</td>\n",
       "      <td>'3'</td>\n",
       "      <td>'right'</td>\n",
       "      <td>'left_low'</td>\n",
       "      <td>'yes'</td>\n",
       "    </tr>\n",
       "    <tr>\n",
       "      <th>188</th>\n",
       "      <td>'60-69'</td>\n",
       "      <td>'ge40'</td>\n",
       "      <td>'10-14'</td>\n",
       "      <td>'0-2'</td>\n",
       "      <td>'no'</td>\n",
       "      <td>'1'</td>\n",
       "      <td>'right'</td>\n",
       "      <td>'left_low'</td>\n",
       "      <td>'no'</td>\n",
       "    </tr>\n",
       "    <tr>\n",
       "      <th>189</th>\n",
       "      <td>'60-69'</td>\n",
       "      <td>'ge40'</td>\n",
       "      <td>'40-44'</td>\n",
       "      <td>'0-2'</td>\n",
       "      <td>'no'</td>\n",
       "      <td>'2'</td>\n",
       "      <td>'right'</td>\n",
       "      <td>'left_low'</td>\n",
       "      <td>'no'</td>\n",
       "    </tr>\n",
       "    <tr>\n",
       "      <th>190</th>\n",
       "      <td>'60-69'</td>\n",
       "      <td>'ge40'</td>\n",
       "      <td>'45-49'</td>\n",
       "      <td>'6-8'</td>\n",
       "      <td>'yes'</td>\n",
       "      <td>'3'</td>\n",
       "      <td>'left'</td>\n",
       "      <td>'central'</td>\n",
       "      <td>'no'</td>\n",
       "    </tr>\n",
       "  </tbody>\n",
       "</table>\n",
       "<p>191 rows × 9 columns</p>\n",
       "</div>"
      ],
      "text/plain": [
       "         age  menopause tumor-size inv-nodes node-caps deg-malig   breast  \\\n",
       "0    '50-59'     'ge40'    '25-29'     '0-2'      'no'       '1'   'left'   \n",
       "1    '30-39'  'premeno'      '5-9'     '0-2'      'no'       '2'   'left'   \n",
       "2    '50-59'  'premeno'    '50-54'     '0-2'     'yes'       '2'  'right'   \n",
       "3    '30-39'  'premeno'    '25-29'     '0-2'      'no'       '1'   'left'   \n",
       "4    '40-49'  'premeno'    '20-24'     '0-2'      'no'       '2'  'right'   \n",
       "..       ...        ...        ...       ...       ...       ...      ...   \n",
       "186  '40-49'  'premeno'    '25-29'     '0-2'      'no'       '1'  'right'   \n",
       "187  '50-59'  'premeno'    '25-29'     '0-2'      'no'       '3'  'right'   \n",
       "188  '60-69'     'ge40'    '10-14'     '0-2'      'no'       '1'  'right'   \n",
       "189  '60-69'     'ge40'    '40-44'     '0-2'      'no'       '2'  'right'   \n",
       "190  '60-69'     'ge40'    '45-49'     '6-8'     'yes'       '3'   'left'   \n",
       "\n",
       "     breast-quad  Class  \n",
       "0    'right_low'   'no'  \n",
       "1    'right_low'   'no'  \n",
       "2      'left_up'  'yes'  \n",
       "3      'central'   'no'  \n",
       "4     'right_up'   'no'  \n",
       "..           ...    ...  \n",
       "186  'right_low'   'no'  \n",
       "187   'left_low'  'yes'  \n",
       "188   'left_low'   'no'  \n",
       "189   'left_low'   'no'  \n",
       "190    'central'   'no'  \n",
       "\n",
       "[191 rows x 9 columns]"
      ]
     },
     "execution_count": 29,
     "metadata": {},
     "output_type": "execute_result"
    }
   ],
   "source": [
    "column_names = ['age', 'menopause', 'tumor-size', 'inv-nodes', \n",
    "                'node-caps','deg-malig', 'breast', 'breast-quad','Class']\n",
    "pd.DataFrame(X_train, columns=column_names)"
   ]
  },
  {
   "cell_type": "code",
   "execution_count": 30,
   "id": "5f83c28d",
   "metadata": {
    "hidden": true
   },
   "outputs": [
    {
     "data": {
      "text/html": [
       "<div>\n",
       "<style scoped>\n",
       "    .dataframe tbody tr th:only-of-type {\n",
       "        vertical-align: middle;\n",
       "    }\n",
       "\n",
       "    .dataframe tbody tr th {\n",
       "        vertical-align: top;\n",
       "    }\n",
       "\n",
       "    .dataframe thead th {\n",
       "        text-align: right;\n",
       "    }\n",
       "</style>\n",
       "<table border=\"1\" class=\"dataframe\">\n",
       "  <thead>\n",
       "    <tr style=\"text-align: right;\">\n",
       "      <th></th>\n",
       "      <th>age</th>\n",
       "      <th>menopause</th>\n",
       "      <th>tumor-size</th>\n",
       "      <th>inv-nodes</th>\n",
       "      <th>node-caps</th>\n",
       "      <th>deg-malig</th>\n",
       "      <th>breast</th>\n",
       "      <th>breast-quad</th>\n",
       "      <th>Class</th>\n",
       "    </tr>\n",
       "  </thead>\n",
       "  <tbody>\n",
       "    <tr>\n",
       "      <th>0</th>\n",
       "      <td>3.0</td>\n",
       "      <td>0.0</td>\n",
       "      <td>4.0</td>\n",
       "      <td>0.0</td>\n",
       "      <td>0.0</td>\n",
       "      <td>0.0</td>\n",
       "      <td>0.0</td>\n",
       "      <td>3.0</td>\n",
       "      <td>0.0</td>\n",
       "    </tr>\n",
       "    <tr>\n",
       "      <th>1</th>\n",
       "      <td>1.0</td>\n",
       "      <td>2.0</td>\n",
       "      <td>9.0</td>\n",
       "      <td>0.0</td>\n",
       "      <td>0.0</td>\n",
       "      <td>1.0</td>\n",
       "      <td>0.0</td>\n",
       "      <td>3.0</td>\n",
       "      <td>0.0</td>\n",
       "    </tr>\n",
       "    <tr>\n",
       "      <th>2</th>\n",
       "      <td>3.0</td>\n",
       "      <td>2.0</td>\n",
       "      <td>10.0</td>\n",
       "      <td>0.0</td>\n",
       "      <td>1.0</td>\n",
       "      <td>1.0</td>\n",
       "      <td>1.0</td>\n",
       "      <td>2.0</td>\n",
       "      <td>1.0</td>\n",
       "    </tr>\n",
       "    <tr>\n",
       "      <th>3</th>\n",
       "      <td>1.0</td>\n",
       "      <td>2.0</td>\n",
       "      <td>4.0</td>\n",
       "      <td>0.0</td>\n",
       "      <td>0.0</td>\n",
       "      <td>0.0</td>\n",
       "      <td>0.0</td>\n",
       "      <td>0.0</td>\n",
       "      <td>0.0</td>\n",
       "    </tr>\n",
       "    <tr>\n",
       "      <th>4</th>\n",
       "      <td>2.0</td>\n",
       "      <td>2.0</td>\n",
       "      <td>3.0</td>\n",
       "      <td>0.0</td>\n",
       "      <td>0.0</td>\n",
       "      <td>1.0</td>\n",
       "      <td>1.0</td>\n",
       "      <td>4.0</td>\n",
       "      <td>0.0</td>\n",
       "    </tr>\n",
       "    <tr>\n",
       "      <th>...</th>\n",
       "      <td>...</td>\n",
       "      <td>...</td>\n",
       "      <td>...</td>\n",
       "      <td>...</td>\n",
       "      <td>...</td>\n",
       "      <td>...</td>\n",
       "      <td>...</td>\n",
       "      <td>...</td>\n",
       "      <td>...</td>\n",
       "    </tr>\n",
       "    <tr>\n",
       "      <th>186</th>\n",
       "      <td>2.0</td>\n",
       "      <td>2.0</td>\n",
       "      <td>4.0</td>\n",
       "      <td>0.0</td>\n",
       "      <td>0.0</td>\n",
       "      <td>0.0</td>\n",
       "      <td>1.0</td>\n",
       "      <td>3.0</td>\n",
       "      <td>0.0</td>\n",
       "    </tr>\n",
       "    <tr>\n",
       "      <th>187</th>\n",
       "      <td>3.0</td>\n",
       "      <td>2.0</td>\n",
       "      <td>4.0</td>\n",
       "      <td>0.0</td>\n",
       "      <td>0.0</td>\n",
       "      <td>2.0</td>\n",
       "      <td>1.0</td>\n",
       "      <td>1.0</td>\n",
       "      <td>1.0</td>\n",
       "    </tr>\n",
       "    <tr>\n",
       "      <th>188</th>\n",
       "      <td>4.0</td>\n",
       "      <td>0.0</td>\n",
       "      <td>1.0</td>\n",
       "      <td>0.0</td>\n",
       "      <td>0.0</td>\n",
       "      <td>0.0</td>\n",
       "      <td>1.0</td>\n",
       "      <td>1.0</td>\n",
       "      <td>0.0</td>\n",
       "    </tr>\n",
       "    <tr>\n",
       "      <th>189</th>\n",
       "      <td>4.0</td>\n",
       "      <td>0.0</td>\n",
       "      <td>7.0</td>\n",
       "      <td>0.0</td>\n",
       "      <td>0.0</td>\n",
       "      <td>1.0</td>\n",
       "      <td>1.0</td>\n",
       "      <td>1.0</td>\n",
       "      <td>0.0</td>\n",
       "    </tr>\n",
       "    <tr>\n",
       "      <th>190</th>\n",
       "      <td>4.0</td>\n",
       "      <td>0.0</td>\n",
       "      <td>8.0</td>\n",
       "      <td>5.0</td>\n",
       "      <td>1.0</td>\n",
       "      <td>2.0</td>\n",
       "      <td>0.0</td>\n",
       "      <td>0.0</td>\n",
       "      <td>0.0</td>\n",
       "    </tr>\n",
       "  </tbody>\n",
       "</table>\n",
       "<p>191 rows × 9 columns</p>\n",
       "</div>"
      ],
      "text/plain": [
       "     age  menopause  tumor-size  inv-nodes  node-caps  deg-malig  breast  \\\n",
       "0    3.0        0.0         4.0        0.0        0.0        0.0     0.0   \n",
       "1    1.0        2.0         9.0        0.0        0.0        1.0     0.0   \n",
       "2    3.0        2.0        10.0        0.0        1.0        1.0     1.0   \n",
       "3    1.0        2.0         4.0        0.0        0.0        0.0     0.0   \n",
       "4    2.0        2.0         3.0        0.0        0.0        1.0     1.0   \n",
       "..   ...        ...         ...        ...        ...        ...     ...   \n",
       "186  2.0        2.0         4.0        0.0        0.0        0.0     1.0   \n",
       "187  3.0        2.0         4.0        0.0        0.0        2.0     1.0   \n",
       "188  4.0        0.0         1.0        0.0        0.0        0.0     1.0   \n",
       "189  4.0        0.0         7.0        0.0        0.0        1.0     1.0   \n",
       "190  4.0        0.0         8.0        5.0        1.0        2.0     0.0   \n",
       "\n",
       "     breast-quad  Class  \n",
       "0            3.0    0.0  \n",
       "1            3.0    0.0  \n",
       "2            2.0    1.0  \n",
       "3            0.0    0.0  \n",
       "4            4.0    0.0  \n",
       "..           ...    ...  \n",
       "186          3.0    0.0  \n",
       "187          1.0    1.0  \n",
       "188          1.0    0.0  \n",
       "189          1.0    0.0  \n",
       "190          0.0    0.0  \n",
       "\n",
       "[191 rows x 9 columns]"
      ]
     },
     "execution_count": 30,
     "metadata": {},
     "output_type": "execute_result"
    }
   ],
   "source": [
    "pd.DataFrame(X_train_enc, columns=column_names)"
   ]
  },
  {
   "cell_type": "markdown",
   "id": "73eb34dd",
   "metadata": {
    "heading_collapsed": true,
    "hidden": true
   },
   "source": [
    "### Mutual information"
   ]
  },
  {
   "cell_type": "code",
   "execution_count": 31,
   "id": "506b014c",
   "metadata": {
    "hidden": true
   },
   "outputs": [
    {
     "name": "stdout",
     "output_type": "stream",
     "text": [
      "[0.0, 0.0, 0.0, 0.0, 0.00390934090973083, 0.010578250884351048, 0.01577263620254632, 0.030627597181116517, 0.08370532981928136]\n",
      "Feature 0: 0.000000\n",
      "Feature 1: 0.000000\n",
      "Feature 2: 0.030628\n",
      "Feature 3: 0.015773\n",
      "Feature 4: 0.000000\n",
      "Feature 5: 0.083705\n",
      "Feature 6: 0.003909\n",
      "Feature 7: 0.000000\n",
      "Feature 8: 0.010578\n"
     ]
    },
    {
     "data": {
      "image/png": "[encoded data removed]",
      "text/plain": [
       "<Figure size 432x288 with 1 Axes>"
      ]
     },
     "metadata": {
      "needs_background": "light"
     },
     "output_type": "display_data"
    }
   ],
   "source": [
    "# feature selection mutual information\n",
    "def select_features(X_train, y_train, X_test):\n",
    "    fs = SelectKBest(score_func=mutual_info_classif, k='all')\n",
    "    fs.fit(X_train, y_train)\n",
    "    X_train_fs = fs.transform(X_train)\n",
    "    X_test_fs = fs.transform(X_test)\n",
    "    return X_train_fs, X_test_fs, fs\n",
    "\n",
    "# feature selection\n",
    "X_train_fs, X_test_fs, fs = select_features(X_train_enc, y_train_enc, X_test_enc)\n",
    "# what are scores for the features\n",
    "print(sorted(fs.scores_))\n",
    "for i in range(len(fs.scores_)):\n",
    "    print('Feature %d: %f' % (i, fs.scores_[i]))\n",
    "# plot the scores\n",
    "pyplot.bar([i for i in range(len(fs.scores_))], fs.scores_)\n",
    "pyplot.show()"
   ]
  },
  {
   "cell_type": "markdown",
   "id": "6b797f92",
   "metadata": {
    "heading_collapsed": true,
    "hidden": true
   },
   "source": [
    "### $\\chi^{2}$     (chi cuadrado)"
   ]
  },
  {
   "cell_type": "code",
   "execution_count": 32,
   "id": "d4d5b87b",
   "metadata": {
    "code_folding": [],
    "hidden": true
   },
   "outputs": [
    {
     "name": "stdout",
     "output_type": "stream",
     "text": [
      "(191, 4)\n",
      "Feature 0: 0.472553\n",
      "Feature 1: 0.029193\n",
      "Feature 2: 2.137658\n",
      "Feature 3: 29.381059\n",
      "Feature 4: 8.222601\n",
      "Feature 5: 8.100183\n",
      "Feature 6: 1.273822\n",
      "Feature 7: 0.950682\n",
      "Feature 8: 3.699989\n"
     ]
    },
    {
     "data": {
      "image/png": "[encoded data removed]",
      "text/plain": [
       "<Figure size 432x288 with 1 Axes>"
      ]
     },
     "metadata": {
      "needs_background": "light"
     },
     "output_type": "display_data"
    }
   ],
   "source": [
    "# feature selection\n",
    "from sklearn.feature_selection import chi2\n",
    "\n",
    "def select_features(X_train, y_train, X_test):\n",
    "    fs = SelectKBest(score_func=chi2, k=4)\n",
    "    fs.fit(X_train, y_train)\n",
    "    X_train_fs = fs.transform(X_train)\n",
    "    X_test_fs = fs.transform(X_test)\n",
    "    return X_train_fs, X_test_fs, fs\n",
    "\n",
    "# feature selection\n",
    "X_train_fs, X_test_fs, fs = select_features(X_train_enc, y_train_enc, X_test_enc)\n",
    "print(X_train_fs.shape)\n",
    "# what are scores for the features\n",
    "for i in range(len(fs.scores_)):\n",
    "    print('Feature %d: %f' % (i, fs.scores_[i]))\n",
    "# plot the scores\n",
    "pyplot.bar([i for i in range(len(fs.scores_))], fs.scores_)\n",
    "pyplot.show()"
   ]
  },
  {
   "cell_type": "markdown",
   "id": "18d851bb",
   "metadata": {
    "hidden": true
   },
   "source": [
    "¿Cómo saber qué características se han seleccionado?"
   ]
  },
  {
   "cell_type": "code",
   "execution_count": 33,
   "id": "963c89e4",
   "metadata": {
    "hidden": true
   },
   "outputs": [
    {
     "name": "stdout",
     "output_type": "stream",
     "text": [
      "[False False False  True  True  True False False  True]\n",
      "(array([3, 4, 5, 8], dtype=int64),)\n",
      "['inv-nodes', 'node-caps', 'deg-malig', 'Class']\n"
     ]
    }
   ],
   "source": [
    "print(fs.get_support())\n",
    "print(np.nonzero(fs.get_support()))\n",
    "print([column_names[idx] for (idx, item) in enumerate(fs.get_support()) if item])"
   ]
  },
  {
   "cell_type": "markdown",
   "id": "481187a2",
   "metadata": {
    "heading_collapsed": true,
    "hidden": true
   },
   "source": [
    "### Comparación de rendimiento\n",
    "\n",
    "Evaluación de las dos selecciones de características usando como referencia un modelo de regresión logística"
   ]
  },
  {
   "cell_type": "code",
   "execution_count": 34,
   "id": "a37acb3c",
   "metadata": {
    "hidden": true
   },
   "outputs": [],
   "source": [
    "from sklearn.linear_model import LogisticRegression\n",
    "from sklearn.metrics import accuracy_score\n",
    "\n",
    "def mi_mutual_info_classif(*args):\n",
    "    score = mutual_info_classif(args[0], args[1], \n",
    "                                discrete_features=True)\n",
    "    return score\n",
    "\n",
    "def select_features(X_train, y_train, X_test, func, k=4):\n",
    "    fs = SelectKBest(score_func=func, k=k)\n",
    "    fs.fit(X_train, y_train)\n",
    "    X_train_fs = fs.transform(X_train)\n",
    "    X_test_fs = fs.transform(X_test)\n",
    "    return X_train_fs, X_test_fs, fs\n",
    "\n",
    "l = []\n",
    "model = LogisticRegression(solver='lbfgs')\n",
    "\n",
    "for k in range(1, 10):\n",
    "#     print(f'k={k}')\n",
    "\n",
    "    # feature selection\n",
    "    X_train_fs, X_test_fs, fs = select_features(X_train_enc, \n",
    "                                                y_train_enc, \n",
    "                                                X_test_enc, chi2, k)\n",
    "    # fit the model using MI\n",
    "    model.fit(X_train_fs, y_train_enc)\n",
    "    # evaluate the model\n",
    "    yhat = model.predict(X_test_fs)\n",
    "    # evaluate predictions\n",
    "    accuracy = accuracy_score(y_test_enc, yhat)\n",
    "#     print('Accuracy chi2: %.2f' % (accuracy*100))\n",
    "\n",
    "    # feature selection\n",
    "    X_train_fs, X_test_fs, fs = select_features(X_train_enc, \n",
    "                                                y_train_enc, \n",
    "                                                X_test_enc,\n",
    "#                                                 mutual_info_classif,\n",
    "                                                mi_mutual_info_classif,\n",
    "                                                k)\n",
    "\n",
    "    # fit the model using mutual information\n",
    "    model.fit(X_train_fs, y_train_enc)\n",
    "    # evaluate the model\n",
    "    yhat = model.predict(X_test_fs)\n",
    "    # evaluate predictions\n",
    "    accuracy_mi = accuracy_score(y_test_enc, yhat)\n",
    "#     print('Accuracy mut. inf.: %.2f' % (accuracy_mi*100))\n",
    "#     print('')\n",
    "    l += [(k, accuracy, accuracy_mi)]"
   ]
  },
  {
   "cell_type": "code",
   "execution_count": 35,
   "id": "54258bb6",
   "metadata": {
    "hidden": true
   },
   "outputs": [
    {
     "data": {
      "text/html": [
       "<div>\n",
       "<style scoped>\n",
       "    .dataframe tbody tr th:only-of-type {\n",
       "        vertical-align: middle;\n",
       "    }\n",
       "\n",
       "    .dataframe tbody tr th {\n",
       "        vertical-align: top;\n",
       "    }\n",
       "\n",
       "    .dataframe thead th {\n",
       "        text-align: right;\n",
       "    }\n",
       "</style>\n",
       "<table border=\"1\" class=\"dataframe\">\n",
       "  <thead>\n",
       "    <tr style=\"text-align: right;\">\n",
       "      <th></th>\n",
       "      <th>chi2</th>\n",
       "      <th>mi</th>\n",
       "    </tr>\n",
       "  </thead>\n",
       "  <tbody>\n",
       "    <tr>\n",
       "      <th>1</th>\n",
       "      <td>0.673684</td>\n",
       "      <td>0.652632</td>\n",
       "    </tr>\n",
       "    <tr>\n",
       "      <th>2</th>\n",
       "      <td>0.663158</td>\n",
       "      <td>0.673684</td>\n",
       "    </tr>\n",
       "    <tr>\n",
       "      <th>3</th>\n",
       "      <td>0.736842</td>\n",
       "      <td>0.768421</td>\n",
       "    </tr>\n",
       "    <tr>\n",
       "      <th>4</th>\n",
       "      <td>0.747368</td>\n",
       "      <td>0.736842</td>\n",
       "    </tr>\n",
       "    <tr>\n",
       "      <th>5</th>\n",
       "      <td>0.736842</td>\n",
       "      <td>0.747368</td>\n",
       "    </tr>\n",
       "    <tr>\n",
       "      <th>6</th>\n",
       "      <td>0.747368</td>\n",
       "      <td>0.747368</td>\n",
       "    </tr>\n",
       "    <tr>\n",
       "      <th>7</th>\n",
       "      <td>0.747368</td>\n",
       "      <td>0.736842</td>\n",
       "    </tr>\n",
       "    <tr>\n",
       "      <th>8</th>\n",
       "      <td>0.757895</td>\n",
       "      <td>0.757895</td>\n",
       "    </tr>\n",
       "    <tr>\n",
       "      <th>9</th>\n",
       "      <td>0.757895</td>\n",
       "      <td>0.757895</td>\n",
       "    </tr>\n",
       "  </tbody>\n",
       "</table>\n",
       "</div>"
      ],
      "text/plain": [
       "       chi2        mi\n",
       "1  0.673684  0.652632\n",
       "2  0.663158  0.673684\n",
       "3  0.736842  0.768421\n",
       "4  0.747368  0.736842\n",
       "5  0.736842  0.747368\n",
       "6  0.747368  0.747368\n",
       "7  0.747368  0.736842\n",
       "8  0.757895  0.757895\n",
       "9  0.757895  0.757895"
      ]
     },
     "metadata": {},
     "output_type": "display_data"
    },
    {
     "data": {
      "image/png": "[encoded data removed]",
      "text/plain": [
       "<Figure size 648x432 with 1 Axes>"
      ]
     },
     "metadata": {
      "needs_background": "light"
     },
     "output_type": "display_data"
    }
   ],
   "source": [
    "df = pd.DataFrame({'chi2': [k for _, k, _ in l],\n",
    "                   'mi': [k for _, _, k in l]}, index=range(1,10))\n",
    "from IPython.display import display\n",
    "display(df)\n",
    "\n",
    "df.plot(style='o-', grid=True, figsize=(9,6),\n",
    "        xticks=[i for i in range(1,10)],\n",
    "        title='Precisión vs. número de características', \n",
    "        xlabel='Número de características',\n",
    "        ylabel='accuracy score')\n",
    "plt.show()"
   ]
  },
  {
   "cell_type": "markdown",
   "id": "b02e1749",
   "metadata": {
    "heading_collapsed": true
   },
   "source": [
    "## Predictores numéricos, respuesta categórica\n",
    "\n",
    "dataset: `pima-indians-diabetes`"
   ]
  },
  {
   "cell_type": "markdown",
   "id": "5ee151ba",
   "metadata": {
    "hidden": true
   },
   "source": [
    "### Lectura del dataset"
   ]
  },
  {
   "cell_type": "code",
   "execution_count": 36,
   "id": "ae479129",
   "metadata": {},
   "outputs": [
    {
     "data": {
      "text/html": [
       "<div>\n",
       "<style scoped>\n",
       "    .dataframe tbody tr th:only-of-type {\n",
       "        vertical-align: middle;\n",
       "    }\n",
       "\n",
       "    .dataframe tbody tr th {\n",
       "        vertical-align: top;\n",
       "    }\n",
       "\n",
       "    .dataframe thead th {\n",
       "        text-align: right;\n",
       "    }\n",
       "</style>\n",
       "<table border=\"1\" class=\"dataframe\">\n",
       "  <thead>\n",
       "    <tr style=\"text-align: right;\">\n",
       "      <th></th>\n",
       "      <th>0</th>\n",
       "      <th>1</th>\n",
       "      <th>2</th>\n",
       "      <th>3</th>\n",
       "      <th>4</th>\n",
       "      <th>5</th>\n",
       "      <th>6</th>\n",
       "      <th>7</th>\n",
       "    </tr>\n",
       "  </thead>\n",
       "  <tbody>\n",
       "    <tr>\n",
       "      <th>1.0</th>\n",
       "      <td>6.0</td>\n",
       "      <td>148.0</td>\n",
       "      <td>72.0</td>\n",
       "      <td>35.0</td>\n",
       "      <td>0.0</td>\n",
       "      <td>33.6</td>\n",
       "      <td>0.627</td>\n",
       "      <td>50.0</td>\n",
       "    </tr>\n",
       "    <tr>\n",
       "      <th>0.0</th>\n",
       "      <td>1.0</td>\n",
       "      <td>85.0</td>\n",
       "      <td>66.0</td>\n",
       "      <td>29.0</td>\n",
       "      <td>0.0</td>\n",
       "      <td>26.6</td>\n",
       "      <td>0.351</td>\n",
       "      <td>31.0</td>\n",
       "    </tr>\n",
       "    <tr>\n",
       "      <th>1.0</th>\n",
       "      <td>8.0</td>\n",
       "      <td>183.0</td>\n",
       "      <td>64.0</td>\n",
       "      <td>0.0</td>\n",
       "      <td>0.0</td>\n",
       "      <td>23.3</td>\n",
       "      <td>0.672</td>\n",
       "      <td>32.0</td>\n",
       "    </tr>\n",
       "    <tr>\n",
       "      <th>0.0</th>\n",
       "      <td>1.0</td>\n",
       "      <td>89.0</td>\n",
       "      <td>66.0</td>\n",
       "      <td>23.0</td>\n",
       "      <td>94.0</td>\n",
       "      <td>28.1</td>\n",
       "      <td>0.167</td>\n",
       "      <td>21.0</td>\n",
       "    </tr>\n",
       "    <tr>\n",
       "      <th>1.0</th>\n",
       "      <td>0.0</td>\n",
       "      <td>137.0</td>\n",
       "      <td>40.0</td>\n",
       "      <td>35.0</td>\n",
       "      <td>168.0</td>\n",
       "      <td>43.1</td>\n",
       "      <td>2.288</td>\n",
       "      <td>33.0</td>\n",
       "    </tr>\n",
       "    <tr>\n",
       "      <th>...</th>\n",
       "      <td>...</td>\n",
       "      <td>...</td>\n",
       "      <td>...</td>\n",
       "      <td>...</td>\n",
       "      <td>...</td>\n",
       "      <td>...</td>\n",
       "      <td>...</td>\n",
       "      <td>...</td>\n",
       "    </tr>\n",
       "    <tr>\n",
       "      <th>0.0</th>\n",
       "      <td>10.0</td>\n",
       "      <td>101.0</td>\n",
       "      <td>76.0</td>\n",
       "      <td>48.0</td>\n",
       "      <td>180.0</td>\n",
       "      <td>32.9</td>\n",
       "      <td>0.171</td>\n",
       "      <td>63.0</td>\n",
       "    </tr>\n",
       "    <tr>\n",
       "      <th>0.0</th>\n",
       "      <td>2.0</td>\n",
       "      <td>122.0</td>\n",
       "      <td>70.0</td>\n",
       "      <td>27.0</td>\n",
       "      <td>0.0</td>\n",
       "      <td>36.8</td>\n",
       "      <td>0.34</td>\n",
       "      <td>27.0</td>\n",
       "    </tr>\n",
       "    <tr>\n",
       "      <th>0.0</th>\n",
       "      <td>5.0</td>\n",
       "      <td>121.0</td>\n",
       "      <td>72.0</td>\n",
       "      <td>23.0</td>\n",
       "      <td>112.0</td>\n",
       "      <td>26.2</td>\n",
       "      <td>0.245</td>\n",
       "      <td>30.0</td>\n",
       "    </tr>\n",
       "    <tr>\n",
       "      <th>1.0</th>\n",
       "      <td>1.0</td>\n",
       "      <td>126.0</td>\n",
       "      <td>60.0</td>\n",
       "      <td>0.0</td>\n",
       "      <td>0.0</td>\n",
       "      <td>30.1</td>\n",
       "      <td>0.349</td>\n",
       "      <td>47.0</td>\n",
       "    </tr>\n",
       "    <tr>\n",
       "      <th>0.0</th>\n",
       "      <td>1.0</td>\n",
       "      <td>93.0</td>\n",
       "      <td>70.0</td>\n",
       "      <td>31.0</td>\n",
       "      <td>0.0</td>\n",
       "      <td>30.4</td>\n",
       "      <td>0.315</td>\n",
       "      <td>23.0</td>\n",
       "    </tr>\n",
       "  </tbody>\n",
       "</table>\n",
       "<p>768 rows × 8 columns</p>\n",
       "</div>"
      ],
      "text/plain": [
       "        0      1     2     3      4     5      6     7\n",
       "1.0   6.0  148.0  72.0  35.0    0.0  33.6  0.627  50.0\n",
       "0.0   1.0   85.0  66.0  29.0    0.0  26.6  0.351  31.0\n",
       "1.0   8.0  183.0  64.0   0.0    0.0  23.3  0.672  32.0\n",
       "0.0   1.0   89.0  66.0  23.0   94.0  28.1  0.167  21.0\n",
       "1.0   0.0  137.0  40.0  35.0  168.0  43.1  2.288  33.0\n",
       "..    ...    ...   ...   ...    ...   ...    ...   ...\n",
       "0.0  10.0  101.0  76.0  48.0  180.0  32.9  0.171  63.0\n",
       "0.0   2.0  122.0  70.0  27.0    0.0  36.8   0.34  27.0\n",
       "0.0   5.0  121.0  72.0  23.0  112.0  26.2  0.245  30.0\n",
       "1.0   1.0  126.0  60.0   0.0    0.0  30.1  0.349  47.0\n",
       "0.0   1.0   93.0  70.0  31.0    0.0  30.4  0.315  23.0\n",
       "\n",
       "[768 rows x 8 columns]"
      ]
     },
     "execution_count": 36,
     "metadata": {},
     "output_type": "execute_result"
    }
   ],
   "source": [
    "X, y = load_dataset(\"datos/pima-indians-diabetes.csv\")\n",
    "Xtrain, Xtest, ytrain, ytest = train_test_split(X, y, train_size=0.67, random_state=1)\n",
    "ytrain_enc, ytest_enc = prepare_targets(ytrain, ytest)\n",
    "pd.DataFrame(X, y)"
   ]
  },
  {
   "cell_type": "markdown",
   "id": "97442893",
   "metadata": {
    "hidden": true
   },
   "source": [
    "### Estadístico F"
   ]
  },
  {
   "cell_type": "code",
   "execution_count": 37,
   "id": "7dde2122",
   "metadata": {
    "scrolled": false
   },
   "outputs": [
    {
     "name": "stdout",
     "output_type": "stream",
     "text": [
      "(514, 4)\n",
      "Feature 0: 16.527385\n",
      "Feature 1: 131.325562\n",
      "Feature 2: 0.042371\n",
      "Feature 3: 1.415216\n",
      "Feature 4: 12.778966\n",
      "Feature 5: 49.209523\n",
      "Feature 6: 13.377142\n",
      "Feature 7: 25.126440\n"
     ]
    },
    {
     "name": "stderr",
     "output_type": "stream",
     "text": [
      "C:\\Users\\sergi\\anaconda3\\lib\\site-packages\\sklearn\\utils\\validation.py:63: FutureWarning: Arrays of bytes/strings is being converted to decimal numbers if dtype='numeric'. This behavior is deprecated in 0.24 and will be removed in 1.1 (renaming of 0.26). Please convert your data to numeric values explicitly instead.\n",
      "  return f(*args, **kwargs)\n"
     ]
    },
    {
     "data": {
      "image/png": "[encoded data removed]",
      "text/plain": [
       "<Figure size 432x288 with 1 Axes>"
      ]
     },
     "metadata": {
      "needs_background": "light"
     },
     "output_type": "display_data"
    }
   ],
   "source": [
    "from sklearn.feature_selection import f_classif\n",
    "\n",
    "def select_features(X_train, y_train, X_test):\n",
    "    fs = SelectKBest(score_func=f_classif, k=4)\n",
    "    fs.fit(X_train, y_train)\n",
    "    X_train_fs = fs.transform(X_train)\n",
    "    X_test_fs = fs.transform(X_test)\n",
    "    return X_train_fs, X_test_fs, fs\n",
    "\n",
    "Xtrain_fs_f, Xtest_fs_f, fs_f = select_features(Xtrain, ytrain_enc, Xtest)\n",
    "print(Xtrain_fs_f.shape)\n",
    "\n",
    "for i in range(len(fs_f.scores_)):\n",
    "    print('Feature %d: %f' % (i, fs_f.scores_[i]))\n",
    "\n",
    "pyplot.bar([i for i in range(len(fs_f.scores_))], fs_f.scores_)\n",
    "pyplot.show()"
   ]
  },
  {
   "cell_type": "markdown",
   "id": "d6d962ab",
   "metadata": {},
   "source": [
    "Observamos que usando el estadístico F obtenemos que las 4 características con mayor importancia son la 1, 5, 7 y 0."
   ]
  },
  {
   "cell_type": "markdown",
   "id": "42aeef94",
   "metadata": {
    "hidden": true
   },
   "source": [
    "### Mutual information (caso clasificación)"
   ]
  },
  {
   "cell_type": "code",
   "execution_count": 38,
   "id": "3ca8da04",
   "metadata": {},
   "outputs": [
    {
     "name": "stderr",
     "output_type": "stream",
     "text": [
      "C:\\Users\\sergi\\anaconda3\\lib\\site-packages\\sklearn\\utils\\validation.py:63: FutureWarning: Arrays of bytes/strings is being converted to decimal numbers if dtype='numeric'. This behavior is deprecated in 0.24 and will be removed in 1.1 (renaming of 0.26). Please convert your data to numeric values explicitly instead.\n",
      "  return f(*args, **kwargs)\n"
     ]
    },
    {
     "name": "stdout",
     "output_type": "stream",
     "text": [
      "(514, 4)\n",
      "Feature 0: 0.026685\n",
      "Feature 1: 0.092399\n",
      "Feature 2: 0.005787\n",
      "Feature 3: 0.000000\n",
      "Feature 4: 0.035712\n",
      "Feature 5: 0.081975\n",
      "Feature 6: 0.020326\n",
      "Feature 7: 0.049893\n"
     ]
    },
    {
     "data": {
      "image/png": "[encoded data removed]",
      "text/plain": [
       "<Figure size 432x288 with 1 Axes>"
      ]
     },
     "metadata": {
      "needs_background": "light"
     },
     "output_type": "display_data"
    }
   ],
   "source": [
    "def select_features(X_train, y_train, X_test):\n",
    "    fs = SelectKBest(score_func=mutual_info_classif, k=4)\n",
    "    fs.fit(X_train, y_train)\n",
    "    X_train_fs = fs.transform(X_train)\n",
    "    X_test_fs = fs.transform(X_test)\n",
    "    return X_train_fs, X_test_fs, fs\n",
    "\n",
    "# feature selection\n",
    "Xtrain_fs_m, Xtest_fs_m, fs_m = select_features(Xtrain, ytrain_enc, Xtest)\n",
    "print(Xtrain_fs_m.shape)\n",
    "# what are scores for the features\n",
    "for i in range(len(fs_m.scores_)):\n",
    "    print('Feature %d: %f' % (i, fs_m.scores_[i]))\n",
    "# plot the scores\n",
    "pyplot.bar([i for i in range(len(fs_m.scores_))], fs_m.scores_)\n",
    "pyplot.show()"
   ]
  },
  {
   "cell_type": "markdown",
   "id": "0068e495",
   "metadata": {},
   "source": [
    "En cambio, usando mutual information en el caso de clasificación obtenemos que las 4 características más importantes son la 1, 5, 4 y 0."
   ]
  },
  {
   "cell_type": "markdown",
   "id": "fef727d2",
   "metadata": {
    "hidden": true
   },
   "source": [
    "### Modelo con todas las características\n",
    "\n",
    "Usar el modelo `LogisticRegression(solver='liblinear')` y la métrica `accuracy_score`"
   ]
  },
  {
   "cell_type": "code",
   "execution_count": 39,
   "id": "f7c09169",
   "metadata": {},
   "outputs": [
    {
     "name": "stdout",
     "output_type": "stream",
     "text": [
      "0.7755905511811023\n"
     ]
    },
    {
     "name": "stderr",
     "output_type": "stream",
     "text": [
      "C:\\Users\\sergi\\anaconda3\\lib\\site-packages\\sklearn\\utils\\validation.py:63: FutureWarning: Arrays of bytes/strings is being converted to decimal numbers if dtype='numeric'. This behavior is deprecated in 0.24 and will be removed in 1.1 (renaming of 0.26). Please convert your data to numeric values explicitly instead.\n",
      "  return f(*args, **kwargs)\n"
     ]
    }
   ],
   "source": [
    "from sklearn.metrics import accuracy_score\n",
    "model = LogisticRegression(solver='liblinear').fit(Xtrain, ytrain_enc)\n",
    "print(accuracy_score(model.predict(Xtest), ytest))"
   ]
  },
  {
   "cell_type": "markdown",
   "id": "32623125",
   "metadata": {
    "hidden": true
   },
   "source": [
    "### Modelo con las 4 mejores características descubiertas con F"
   ]
  },
  {
   "cell_type": "code",
   "execution_count": 40,
   "id": "87979fa7",
   "metadata": {},
   "outputs": [
    {
     "name": "stdout",
     "output_type": "stream",
     "text": [
      "0.7874015748031497\n"
     ]
    },
    {
     "name": "stderr",
     "output_type": "stream",
     "text": [
      "C:\\Users\\sergi\\anaconda3\\lib\\site-packages\\sklearn\\utils\\validation.py:63: FutureWarning: Arrays of bytes/strings is being converted to decimal numbers if dtype='numeric'. This behavior is deprecated in 0.24 and will be removed in 1.1 (renaming of 0.26). Please convert your data to numeric values explicitly instead.\n",
      "  return f(*args, **kwargs)\n"
     ]
    }
   ],
   "source": [
    "model = LogisticRegression(solver='liblinear').fit(Xtrain_fs_f, ytrain_enc)\n",
    "print(accuracy_score(model.predict(Xtest_fs_f), ytest))"
   ]
  },
  {
   "cell_type": "markdown",
   "id": "aa14f0aa",
   "metadata": {
    "hidden": true
   },
   "source": [
    "### Modelo con las 4 mejores características descubiertas con *mutual information*"
   ]
  },
  {
   "cell_type": "code",
   "execution_count": 41,
   "id": "1592de7d",
   "metadata": {},
   "outputs": [
    {
     "name": "stdout",
     "output_type": "stream",
     "text": [
      "0.7755905511811023\n"
     ]
    },
    {
     "name": "stderr",
     "output_type": "stream",
     "text": [
      "C:\\Users\\sergi\\anaconda3\\lib\\site-packages\\sklearn\\utils\\validation.py:63: FutureWarning: Arrays of bytes/strings is being converted to decimal numbers if dtype='numeric'. This behavior is deprecated in 0.24 and will be removed in 1.1 (renaming of 0.26). Please convert your data to numeric values explicitly instead.\n",
      "  return f(*args, **kwargs)\n"
     ]
    }
   ],
   "source": [
    "model = LogisticRegression(solver='liblinear').fit(Xtrain_fs_m, ytrain_enc)\n",
    "print(accuracy_score(model.predict(Xtest_fs_m), ytest))"
   ]
  },
  {
   "cell_type": "markdown",
   "id": "5ee4feda",
   "metadata": {},
   "source": [
    "Observamos que el modelo entrenado con todas las características tiene una precisión ligeramente menor que el que fue entrenado con las 4 características seleccionadas con el estadístico F y el que fue entrenado con las 4 seleccionadas con mutual information. El mejor modelo es el del estadístico F."
   ]
  },
  {
   "cell_type": "markdown",
   "id": "ac92485e",
   "metadata": {
    "hidden": true
   },
   "source": [
    "### Comparativa de resultados  y comentarios"
   ]
  },
  {
   "cell_type": "code",
   "execution_count": 42,
   "id": "41d0c03e",
   "metadata": {},
   "outputs": [
    {
     "name": "stderr",
     "output_type": "stream",
     "text": [
      "C:\\Users\\sergi\\anaconda3\\lib\\site-packages\\sklearn\\utils\\validation.py:63: FutureWarning: Arrays of bytes/strings is being converted to decimal numbers if dtype='numeric'. This behavior is deprecated in 0.24 and will be removed in 1.1 (renaming of 0.26). Please convert your data to numeric values explicitly instead.\n",
      "  return f(*args, **kwargs)\n",
      "C:\\Users\\sergi\\anaconda3\\lib\\site-packages\\sklearn\\utils\\validation.py:63: FutureWarning: Arrays of bytes/strings is being converted to decimal numbers if dtype='numeric'. This behavior is deprecated in 0.24 and will be removed in 1.1 (renaming of 0.26). Please convert your data to numeric values explicitly instead.\n",
      "  return f(*args, **kwargs)\n",
      "C:\\Users\\sergi\\anaconda3\\lib\\site-packages\\sklearn\\utils\\validation.py:63: FutureWarning: Arrays of bytes/strings is being converted to decimal numbers if dtype='numeric'. This behavior is deprecated in 0.24 and will be removed in 1.1 (renaming of 0.26). Please convert your data to numeric values explicitly instead.\n",
      "  return f(*args, **kwargs)\n",
      "C:\\Users\\sergi\\anaconda3\\lib\\site-packages\\sklearn\\utils\\validation.py:63: FutureWarning: Arrays of bytes/strings is being converted to decimal numbers if dtype='numeric'. This behavior is deprecated in 0.24 and will be removed in 1.1 (renaming of 0.26). Please convert your data to numeric values explicitly instead.\n",
      "  return f(*args, **kwargs)\n",
      "C:\\Users\\sergi\\anaconda3\\lib\\site-packages\\sklearn\\utils\\validation.py:63: FutureWarning: Arrays of bytes/strings is being converted to decimal numbers if dtype='numeric'. This behavior is deprecated in 0.24 and will be removed in 1.1 (renaming of 0.26). Please convert your data to numeric values explicitly instead.\n",
      "  return f(*args, **kwargs)\n",
      "C:\\Users\\sergi\\anaconda3\\lib\\site-packages\\sklearn\\utils\\validation.py:63: FutureWarning: Arrays of bytes/strings is being converted to decimal numbers if dtype='numeric'. This behavior is deprecated in 0.24 and will be removed in 1.1 (renaming of 0.26). Please convert your data to numeric values explicitly instead.\n",
      "  return f(*args, **kwargs)\n",
      "C:\\Users\\sergi\\anaconda3\\lib\\site-packages\\sklearn\\utils\\validation.py:63: FutureWarning: Arrays of bytes/strings is being converted to decimal numbers if dtype='numeric'. This behavior is deprecated in 0.24 and will be removed in 1.1 (renaming of 0.26). Please convert your data to numeric values explicitly instead.\n",
      "  return f(*args, **kwargs)\n",
      "C:\\Users\\sergi\\anaconda3\\lib\\site-packages\\sklearn\\utils\\validation.py:63: FutureWarning: Arrays of bytes/strings is being converted to decimal numbers if dtype='numeric'. This behavior is deprecated in 0.24 and will be removed in 1.1 (renaming of 0.26). Please convert your data to numeric values explicitly instead.\n",
      "  return f(*args, **kwargs)\n",
      "C:\\Users\\sergi\\anaconda3\\lib\\site-packages\\sklearn\\utils\\validation.py:63: FutureWarning: Arrays of bytes/strings is being converted to decimal numbers if dtype='numeric'. This behavior is deprecated in 0.24 and will be removed in 1.1 (renaming of 0.26). Please convert your data to numeric values explicitly instead.\n",
      "  return f(*args, **kwargs)\n",
      "C:\\Users\\sergi\\anaconda3\\lib\\site-packages\\sklearn\\utils\\validation.py:63: FutureWarning: Arrays of bytes/strings is being converted to decimal numbers if dtype='numeric'. This behavior is deprecated in 0.24 and will be removed in 1.1 (renaming of 0.26). Please convert your data to numeric values explicitly instead.\n",
      "  return f(*args, **kwargs)\n",
      "C:\\Users\\sergi\\anaconda3\\lib\\site-packages\\sklearn\\utils\\validation.py:63: FutureWarning: Arrays of bytes/strings is being converted to decimal numbers if dtype='numeric'. This behavior is deprecated in 0.24 and will be removed in 1.1 (renaming of 0.26). Please convert your data to numeric values explicitly instead.\n",
      "  return f(*args, **kwargs)\n",
      "C:\\Users\\sergi\\anaconda3\\lib\\site-packages\\sklearn\\utils\\validation.py:63: FutureWarning: Arrays of bytes/strings is being converted to decimal numbers if dtype='numeric'. This behavior is deprecated in 0.24 and will be removed in 1.1 (renaming of 0.26). Please convert your data to numeric values explicitly instead.\n",
      "  return f(*args, **kwargs)\n",
      "C:\\Users\\sergi\\anaconda3\\lib\\site-packages\\sklearn\\utils\\validation.py:63: FutureWarning: Arrays of bytes/strings is being converted to decimal numbers if dtype='numeric'. This behavior is deprecated in 0.24 and will be removed in 1.1 (renaming of 0.26). Please convert your data to numeric values explicitly instead.\n",
      "  return f(*args, **kwargs)\n",
      "C:\\Users\\sergi\\anaconda3\\lib\\site-packages\\sklearn\\utils\\validation.py:63: FutureWarning: Arrays of bytes/strings is being converted to decimal numbers if dtype='numeric'. This behavior is deprecated in 0.24 and will be removed in 1.1 (renaming of 0.26). Please convert your data to numeric values explicitly instead.\n",
      "  return f(*args, **kwargs)\n",
      "C:\\Users\\sergi\\anaconda3\\lib\\site-packages\\sklearn\\utils\\validation.py:63: FutureWarning: Arrays of bytes/strings is being converted to decimal numbers if dtype='numeric'. This behavior is deprecated in 0.24 and will be removed in 1.1 (renaming of 0.26). Please convert your data to numeric values explicitly instead.\n",
      "  return f(*args, **kwargs)\n",
      "C:\\Users\\sergi\\anaconda3\\lib\\site-packages\\sklearn\\utils\\validation.py:63: FutureWarning: Arrays of bytes/strings is being converted to decimal numbers if dtype='numeric'. This behavior is deprecated in 0.24 and will be removed in 1.1 (renaming of 0.26). Please convert your data to numeric values explicitly instead.\n",
      "  return f(*args, **kwargs)\n",
      "C:\\Users\\sergi\\anaconda3\\lib\\site-packages\\sklearn\\utils\\validation.py:63: FutureWarning: Arrays of bytes/strings is being converted to decimal numbers if dtype='numeric'. This behavior is deprecated in 0.24 and will be removed in 1.1 (renaming of 0.26). Please convert your data to numeric values explicitly instead.\n",
      "  return f(*args, **kwargs)\n",
      "C:\\Users\\sergi\\anaconda3\\lib\\site-packages\\sklearn\\utils\\validation.py:63: FutureWarning: Arrays of bytes/strings is being converted to decimal numbers if dtype='numeric'. This behavior is deprecated in 0.24 and will be removed in 1.1 (renaming of 0.26). Please convert your data to numeric values explicitly instead.\n",
      "  return f(*args, **kwargs)\n",
      "C:\\Users\\sergi\\anaconda3\\lib\\site-packages\\sklearn\\utils\\validation.py:63: FutureWarning: Arrays of bytes/strings is being converted to decimal numbers if dtype='numeric'. This behavior is deprecated in 0.24 and will be removed in 1.1 (renaming of 0.26). Please convert your data to numeric values explicitly instead.\n",
      "  return f(*args, **kwargs)\n",
      "C:\\Users\\sergi\\anaconda3\\lib\\site-packages\\sklearn\\utils\\validation.py:63: FutureWarning: Arrays of bytes/strings is being converted to decimal numbers if dtype='numeric'. This behavior is deprecated in 0.24 and will be removed in 1.1 (renaming of 0.26). Please convert your data to numeric values explicitly instead.\n",
      "  return f(*args, **kwargs)\n",
      "C:\\Users\\sergi\\anaconda3\\lib\\site-packages\\sklearn\\utils\\validation.py:63: FutureWarning: Arrays of bytes/strings is being converted to decimal numbers if dtype='numeric'. This behavior is deprecated in 0.24 and will be removed in 1.1 (renaming of 0.26). Please convert your data to numeric values explicitly instead.\n",
      "  return f(*args, **kwargs)\n",
      "C:\\Users\\sergi\\anaconda3\\lib\\site-packages\\sklearn\\utils\\validation.py:63: FutureWarning: Arrays of bytes/strings is being converted to decimal numbers if dtype='numeric'. This behavior is deprecated in 0.24 and will be removed in 1.1 (renaming of 0.26). Please convert your data to numeric values explicitly instead.\n",
      "  return f(*args, **kwargs)\n",
      "C:\\Users\\sergi\\anaconda3\\lib\\site-packages\\sklearn\\utils\\validation.py:63: FutureWarning: Arrays of bytes/strings is being converted to decimal numbers if dtype='numeric'. This behavior is deprecated in 0.24 and will be removed in 1.1 (renaming of 0.26). Please convert your data to numeric values explicitly instead.\n",
      "  return f(*args, **kwargs)\n",
      "C:\\Users\\sergi\\anaconda3\\lib\\site-packages\\sklearn\\utils\\validation.py:63: FutureWarning: Arrays of bytes/strings is being converted to decimal numbers if dtype='numeric'. This behavior is deprecated in 0.24 and will be removed in 1.1 (renaming of 0.26). Please convert your data to numeric values explicitly instead.\n",
      "  return f(*args, **kwargs)\n"
     ]
    },
    {
     "name": "stderr",
     "output_type": "stream",
     "text": [
      "C:\\Users\\sergi\\anaconda3\\lib\\site-packages\\sklearn\\utils\\validation.py:63: FutureWarning: Arrays of bytes/strings is being converted to decimal numbers if dtype='numeric'. This behavior is deprecated in 0.24 and will be removed in 1.1 (renaming of 0.26). Please convert your data to numeric values explicitly instead.\n",
      "  return f(*args, **kwargs)\n",
      "C:\\Users\\sergi\\anaconda3\\lib\\site-packages\\sklearn\\utils\\validation.py:63: FutureWarning: Arrays of bytes/strings is being converted to decimal numbers if dtype='numeric'. This behavior is deprecated in 0.24 and will be removed in 1.1 (renaming of 0.26). Please convert your data to numeric values explicitly instead.\n",
      "  return f(*args, **kwargs)\n",
      "C:\\Users\\sergi\\anaconda3\\lib\\site-packages\\sklearn\\utils\\validation.py:63: FutureWarning: Arrays of bytes/strings is being converted to decimal numbers if dtype='numeric'. This behavior is deprecated in 0.24 and will be removed in 1.1 (renaming of 0.26). Please convert your data to numeric values explicitly instead.\n",
      "  return f(*args, **kwargs)\n",
      "C:\\Users\\sergi\\anaconda3\\lib\\site-packages\\sklearn\\utils\\validation.py:63: FutureWarning: Arrays of bytes/strings is being converted to decimal numbers if dtype='numeric'. This behavior is deprecated in 0.24 and will be removed in 1.1 (renaming of 0.26). Please convert your data to numeric values explicitly instead.\n",
      "  return f(*args, **kwargs)\n",
      "C:\\Users\\sergi\\anaconda3\\lib\\site-packages\\sklearn\\utils\\validation.py:63: FutureWarning: Arrays of bytes/strings is being converted to decimal numbers if dtype='numeric'. This behavior is deprecated in 0.24 and will be removed in 1.1 (renaming of 0.26). Please convert your data to numeric values explicitly instead.\n",
      "  return f(*args, **kwargs)\n",
      "C:\\Users\\sergi\\anaconda3\\lib\\site-packages\\sklearn\\utils\\validation.py:63: FutureWarning: Arrays of bytes/strings is being converted to decimal numbers if dtype='numeric'. This behavior is deprecated in 0.24 and will be removed in 1.1 (renaming of 0.26). Please convert your data to numeric values explicitly instead.\n",
      "  return f(*args, **kwargs)\n",
      "C:\\Users\\sergi\\anaconda3\\lib\\site-packages\\sklearn\\utils\\validation.py:63: FutureWarning: Arrays of bytes/strings is being converted to decimal numbers if dtype='numeric'. This behavior is deprecated in 0.24 and will be removed in 1.1 (renaming of 0.26). Please convert your data to numeric values explicitly instead.\n",
      "  return f(*args, **kwargs)\n",
      "C:\\Users\\sergi\\anaconda3\\lib\\site-packages\\sklearn\\utils\\validation.py:63: FutureWarning: Arrays of bytes/strings is being converted to decimal numbers if dtype='numeric'. This behavior is deprecated in 0.24 and will be removed in 1.1 (renaming of 0.26). Please convert your data to numeric values explicitly instead.\n",
      "  return f(*args, **kwargs)\n"
     ]
    }
   ],
   "source": [
    "def mi_mutual_info_classif(*args):\n",
    "    score = mutual_info_classif(args[0], args[1], \n",
    "                                discrete_features=False)\n",
    "    return score\n",
    "\n",
    "def select_features(X_train, y_train, X_test, func, k=4):\n",
    "    fs = SelectKBest(score_func=func, k=k)\n",
    "    fs.fit(X_train, y_train)\n",
    "    X_train_fs = fs.transform(X_train)\n",
    "    X_test_fs = fs.transform(X_test)\n",
    "    return X_train_fs, X_test_fs, fs\n",
    "\n",
    "l = []\n",
    "model = LogisticRegression(solver='liblinear')\n",
    "\n",
    "for k in range(1, 9):\n",
    "#     print(f'k={k}')\n",
    "\n",
    "    # feature selection\n",
    "    Xtrain_fs_f, Xtest_fs_f, fs_f = select_features(Xtrain, \n",
    "                                                ytrain_enc, \n",
    "                                                Xtest, f_classif, k)\n",
    "    # fit the model using MI\n",
    "    model.fit(Xtrain_fs_f, ytrain_enc)\n",
    "    # evaluate the model\n",
    "    yhat = model.predict(Xtest_fs_f)\n",
    "    # evaluate predictions\n",
    "    accuracy = accuracy_score(ytest_enc, yhat)\n",
    "#     print('Accuracy chi2: %.2f' % (accuracy*100))\n",
    "\n",
    "    # feature selection\n",
    "    Xtrain_fs_m, Xtest_fs_m, fs_m = select_features(Xtrain, \n",
    "                                                ytrain_enc, \n",
    "                                                Xtest,\n",
    "#                                                 mutual_info_classif,\n",
    "                                                mi_mutual_info_classif,\n",
    "                                                k)\n",
    "\n",
    "    # fit the model using mutual information\n",
    "    model.fit(Xtrain_fs_m, ytrain_enc)\n",
    "    # evaluate the model\n",
    "    yhat = model.predict(Xtest_fs_m)\n",
    "    # evaluate predictions\n",
    "    accuracy_mi = accuracy_score(ytest_enc, yhat)\n",
    "#     print('Accuracy mut. inf.: %.2f' % (accuracy_mi*100))\n",
    "#     print('')\n",
    "    l += [(k, accuracy, accuracy_mi)]"
   ]
  },
  {
   "cell_type": "code",
   "execution_count": 43,
   "id": "578fb3e9",
   "metadata": {
    "scrolled": false
   },
   "outputs": [
    {
     "data": {
      "text/html": [
       "<div>\n",
       "<style scoped>\n",
       "    .dataframe tbody tr th:only-of-type {\n",
       "        vertical-align: middle;\n",
       "    }\n",
       "\n",
       "    .dataframe tbody tr th {\n",
       "        vertical-align: top;\n",
       "    }\n",
       "\n",
       "    .dataframe thead th {\n",
       "        text-align: right;\n",
       "    }\n",
       "</style>\n",
       "<table border=\"1\" class=\"dataframe\">\n",
       "  <thead>\n",
       "    <tr style=\"text-align: right;\">\n",
       "      <th></th>\n",
       "      <th>f</th>\n",
       "      <th>mutual info</th>\n",
       "    </tr>\n",
       "  </thead>\n",
       "  <tbody>\n",
       "    <tr>\n",
       "      <th>1</th>\n",
       "      <td>0.755906</td>\n",
       "      <td>0.755906</td>\n",
       "    </tr>\n",
       "    <tr>\n",
       "      <th>2</th>\n",
       "      <td>0.759843</td>\n",
       "      <td>0.759843</td>\n",
       "    </tr>\n",
       "    <tr>\n",
       "      <th>3</th>\n",
       "      <td>0.775591</td>\n",
       "      <td>0.775591</td>\n",
       "    </tr>\n",
       "    <tr>\n",
       "      <th>4</th>\n",
       "      <td>0.787402</td>\n",
       "      <td>0.783465</td>\n",
       "    </tr>\n",
       "    <tr>\n",
       "      <th>5</th>\n",
       "      <td>0.779528</td>\n",
       "      <td>0.775591</td>\n",
       "    </tr>\n",
       "    <tr>\n",
       "      <th>6</th>\n",
       "      <td>0.779528</td>\n",
       "      <td>0.791339</td>\n",
       "    </tr>\n",
       "    <tr>\n",
       "      <th>7</th>\n",
       "      <td>0.783465</td>\n",
       "      <td>0.767717</td>\n",
       "    </tr>\n",
       "    <tr>\n",
       "      <th>8</th>\n",
       "      <td>0.775591</td>\n",
       "      <td>0.775591</td>\n",
       "    </tr>\n",
       "  </tbody>\n",
       "</table>\n",
       "</div>"
      ],
      "text/plain": [
       "          f  mutual info\n",
       "1  0.755906     0.755906\n",
       "2  0.759843     0.759843\n",
       "3  0.775591     0.775591\n",
       "4  0.787402     0.783465\n",
       "5  0.779528     0.775591\n",
       "6  0.779528     0.791339\n",
       "7  0.783465     0.767717\n",
       "8  0.775591     0.775591"
      ]
     },
     "metadata": {},
     "output_type": "display_data"
    },
    {
     "data": {
      "image/png": "[encoded data removed]",
      "text/plain": [
       "<Figure size 648x432 with 1 Axes>"
      ]
     },
     "metadata": {
      "needs_background": "light"
     },
     "output_type": "display_data"
    }
   ],
   "source": [
    "df = pd.DataFrame({'f': [k for _, k, _ in l],\n",
    "                   'mutual info': [k for _, _, k in l]}, index=range(1,9))\n",
    "display(df)\n",
    "\n",
    "df.plot(style='o-', grid=True, figsize=(9,6),\n",
    "        xticks=[i for i in range(1,9)],\n",
    "        title='Precisión vs. número de características', \n",
    "        xlabel='Número de características',\n",
    "        ylabel='accuracy score')\n",
    "plt.show()"
   ]
  },
  {
   "cell_type": "markdown",
   "id": "7ca80ecd",
   "metadata": {},
   "source": [
    "Asimismo, vemos que con hasta 3 características obtenemos la misma precisión usando los dos métodos de selección, pero con 4 obtenemos un resultado significativamente mejor con el estadístico F que con mutual information. Sin embargo, con 7 características obtenemos un buen resultado para ambos métodos."
   ]
  },
  {
   "cell_type": "markdown",
   "id": "65e4d8f7",
   "metadata": {
    "heading_collapsed": true
   },
   "source": [
    "## Predictores numéricos, respuesta numérica\n",
    "\n",
    "En este caso usaremos un dataset sintético, generado con la función `make_regression()` de scikit learn"
   ]
  },
  {
   "cell_type": "markdown",
   "id": "d6748cc0",
   "metadata": {
    "heading_collapsed": true,
    "hidden": true
   },
   "source": [
    "### Generación del dataset sintético"
   ]
  },
  {
   "cell_type": "code",
   "execution_count": 44,
   "id": "35cd19e5",
   "metadata": {
    "hidden": true
   },
   "outputs": [
    {
     "name": "stdout",
     "output_type": "stream",
     "text": [
      "Train (670, 100) (670,)\n",
      "Test (330, 100) (330,)\n"
     ]
    }
   ],
   "source": [
    "from sklearn.datasets import make_regression\n",
    "\n",
    "# generate regression dataset\n",
    "X, y = make_regression(n_samples=1000, n_features=100, n_informative=10,\n",
    "                       noise=0.1, random_state=1)\n",
    "# split into train and test sets\n",
    "Xtrain, Xtest, ytrain, ytest = train_test_split(X, y, test_size=0.33,\n",
    "                                                    random_state=1)\n",
    "# summarize\n",
    "print('Train', Xtrain.shape, ytrain.shape)\n",
    "print('Test', Xtest.shape, ytest.shape)"
   ]
  },
  {
   "cell_type": "markdown",
   "id": "4596b7ef",
   "metadata": {
    "heading_collapsed": true,
    "hidden": true
   },
   "source": [
    "### Regresion (`f_regression()`)"
   ]
  },
  {
   "cell_type": "code",
   "execution_count": 45,
   "id": "4086e204",
   "metadata": {
    "scrolled": false
   },
   "outputs": [
    {
     "name": "stdout",
     "output_type": "stream",
     "text": [
      "(670, 10)\n",
      "Feature 0: 0.009419\n",
      "Feature 1: 1.018881\n",
      "Feature 2: 1.205187\n",
      "Feature 3: 0.000138\n",
      "Feature 4: 0.167511\n",
      "Feature 5: 5.985083\n",
      "Feature 6: 0.062405\n",
      "Feature 7: 1.455257\n",
      "Feature 8: 0.420384\n",
      "Feature 9: 101.392225\n",
      "Feature 10: 0.387091\n",
      "Feature 11: 1.581124\n",
      "Feature 12: 3.014463\n",
      "Feature 13: 0.232705\n",
      "Feature 14: 0.076281\n",
      "Feature 15: 4.299652\n",
      "Feature 16: 1.497530\n",
      "Feature 17: 0.261242\n",
      "Feature 18: 5.960005\n",
      "Feature 19: 0.523219\n",
      "Feature 20: 0.003365\n",
      "Feature 21: 0.024178\n",
      "Feature 22: 0.220958\n",
      "Feature 23: 0.576770\n",
      "Feature 24: 0.627198\n",
      "Feature 25: 0.350687\n",
      "Feature 26: 0.281877\n",
      "Feature 27: 0.584210\n",
      "Feature 28: 52.196337\n",
      "Feature 29: 0.046855\n",
      "Feature 30: 0.147323\n",
      "Feature 31: 0.368485\n",
      "Feature 32: 0.077631\n",
      "Feature 33: 0.698140\n",
      "Feature 34: 45.744046\n",
      "Feature 35: 2.047376\n",
      "Feature 36: 0.786270\n",
      "Feature 37: 0.996190\n",
      "Feature 38: 2.733533\n",
      "Feature 39: 63.957656\n",
      "Feature 40: 231.885540\n",
      "Feature 41: 1.372448\n",
      "Feature 42: 0.581860\n",
      "Feature 43: 1.072930\n",
      "Feature 44: 1.066976\n",
      "Feature 45: 0.344656\n",
      "Feature 46: 13.951551\n",
      "Feature 47: 3.575080\n",
      "Feature 48: 0.007299\n",
      "Feature 49: 0.004651\n",
      "Feature 50: 1.094585\n",
      "Feature 51: 0.241065\n",
      "Feature 52: 0.355137\n",
      "Feature 53: 0.020294\n",
      "Feature 54: 0.154567\n",
      "Feature 55: 2.592512\n",
      "Feature 56: 0.300175\n",
      "Feature 57: 0.357798\n",
      "Feature 58: 3.060090\n",
      "Feature 59: 0.890357\n",
      "Feature 60: 122.132164\n",
      "Feature 61: 2.029982\n",
      "Feature 62: 0.091551\n",
      "Feature 63: 1.081123\n",
      "Feature 64: 0.056041\n",
      "Feature 65: 2.930717\n",
      "Feature 66: 0.054886\n",
      "Feature 67: 1.332787\n",
      "Feature 68: 0.145579\n",
      "Feature 69: 0.986331\n",
      "Feature 70: 0.092661\n",
      "Feature 71: 0.083219\n",
      "Feature 72: 0.198847\n",
      "Feature 73: 2.065792\n",
      "Feature 74: 0.236594\n",
      "Feature 75: 0.512608\n",
      "Feature 76: 1.095650\n",
      "Feature 77: 0.015359\n",
      "Feature 78: 2.193730\n",
      "Feature 79: 1.574530\n",
      "Feature 80: 5.360863\n",
      "Feature 81: 0.041874\n",
      "Feature 82: 5.717705\n",
      "Feature 83: 0.436560\n",
      "Feature 84: 5.594438\n",
      "Feature 85: 0.000065\n",
      "Feature 86: 0.026748\n",
      "Feature 87: 0.408422\n",
      "Feature 88: 2.092557\n",
      "Feature 89: 9.568498\n",
      "Feature 90: 0.642445\n",
      "Feature 91: 0.065794\n",
      "Feature 92: 198.705931\n",
      "Feature 93: 0.073807\n",
      "Feature 94: 1.048605\n",
      "Feature 95: 0.004106\n",
      "Feature 96: 0.042110\n",
      "Feature 97: 0.034228\n",
      "Feature 98: 0.792433\n",
      "Feature 99: 0.015365\n"
     ]
    },
    {
     "data": {
      "image/png": "[encoded data removed]",
      "text/plain": [
       "<Figure size 432x288 with 1 Axes>"
      ]
     },
     "metadata": {
      "needs_background": "light"
     },
     "output_type": "display_data"
    },
    {
     "data": {
      "text/plain": [
       "(670, 10)"
      ]
     },
     "execution_count": 45,
     "metadata": {},
     "output_type": "execute_result"
    }
   ],
   "source": [
    "from sklearn.feature_selection import f_regression\n",
    "\n",
    "def select_features(X_train, y_train, X_test):\n",
    "    fs = SelectKBest(score_func=f_regression, k=10)\n",
    "    fs.fit(X_train, y_train)\n",
    "    X_train_fs = fs.transform(X_train)\n",
    "    X_test_fs = fs.transform(X_test)\n",
    "    return X_train_fs, X_test_fs, fs\n",
    "\n",
    "# feature selection\n",
    "Xtrain_fs, Xtest_fs, fs = select_features(Xtrain, ytrain, Xtest)\n",
    "print(Xtrain_fs.shape)\n",
    "# what are scores for the features\n",
    "for i in range(len(fs.scores_)):\n",
    "    print('Feature %d: %f' % (i, fs.scores_[i]))\n",
    "# plot the scores\n",
    "pyplot.bar([i for i in range(len(fs.scores_))], fs.scores_)\n",
    "pyplot.show()\n",
    "Xtrain_fs.shape"
   ]
  },
  {
   "cell_type": "markdown",
   "id": "b980a92a",
   "metadata": {},
   "source": [
    "En este caso, al realizar la selección de características mediante el estadístico F se obtienen las características 5, 9, 28, 34, 39, 40, 46, 60, 89 y 92."
   ]
  },
  {
   "cell_type": "markdown",
   "id": "18ca30b3",
   "metadata": {
    "heading_collapsed": true,
    "hidden": true
   },
   "source": [
    "### Mutual information (caso regresión)"
   ]
  },
  {
   "cell_type": "code",
   "execution_count": 46,
   "id": "66feb69a",
   "metadata": {
    "scrolled": false
   },
   "outputs": [
    {
     "name": "stdout",
     "output_type": "stream",
     "text": [
      "(670, 10)\n",
      "Feature 0: 0.045484\n",
      "Feature 1: 0.000000\n",
      "Feature 2: 0.000000\n",
      "Feature 3: 0.000000\n",
      "Feature 4: 0.024816\n",
      "Feature 5: 0.000000\n",
      "Feature 6: 0.022659\n",
      "Feature 7: 0.000000\n",
      "Feature 8: 0.000000\n",
      "Feature 9: 0.074320\n",
      "Feature 10: 0.000000\n",
      "Feature 11: 0.000000\n",
      "Feature 12: 0.000000\n",
      "Feature 13: 0.000000\n",
      "Feature 14: 0.020390\n",
      "Feature 15: 0.004307\n",
      "Feature 16: 0.000000\n",
      "Feature 17: 0.000000\n",
      "Feature 18: 0.016566\n",
      "Feature 19: 0.003688\n",
      "Feature 20: 0.007579\n",
      "Feature 21: 0.018640\n",
      "Feature 22: 0.025206\n",
      "Feature 23: 0.017967\n",
      "Feature 24: 0.069173\n",
      "Feature 25: 0.000000\n",
      "Feature 26: 0.022232\n",
      "Feature 27: 0.000000\n",
      "Feature 28: 0.007849\n",
      "Feature 29: 0.012849\n",
      "Feature 30: 0.017402\n",
      "Feature 31: 0.008083\n",
      "Feature 32: 0.047321\n",
      "Feature 33: 0.002829\n",
      "Feature 34: 0.028968\n",
      "Feature 35: 0.000000\n",
      "Feature 36: 0.071652\n",
      "Feature 37: 0.027969\n",
      "Feature 38: 0.000000\n",
      "Feature 39: 0.064796\n",
      "Feature 40: 0.137695\n",
      "Feature 41: 0.008732\n",
      "Feature 42: 0.003983\n",
      "Feature 43: 0.000000\n",
      "Feature 44: 0.009387\n",
      "Feature 45: 0.000000\n",
      "Feature 46: 0.038385\n",
      "Feature 47: 0.000000\n",
      "Feature 48: 0.000000\n",
      "Feature 49: 0.000000\n",
      "Feature 50: 0.000000\n",
      "Feature 51: 0.000000\n",
      "Feature 52: 0.000000\n",
      "Feature 53: 0.008130\n",
      "Feature 54: 0.041779\n",
      "Feature 55: 0.000000\n",
      "Feature 56: 0.000000\n",
      "Feature 57: 0.000000\n",
      "Feature 58: 0.031228\n",
      "Feature 59: 0.002689\n",
      "Feature 60: 0.146192\n",
      "Feature 61: 0.000000\n",
      "Feature 62: 0.000000\n",
      "Feature 63: 0.000000\n",
      "Feature 64: 0.018194\n",
      "Feature 65: 0.021368\n",
      "Feature 66: 0.046071\n",
      "Feature 67: 0.034707\n",
      "Feature 68: 0.033530\n",
      "Feature 69: 0.002262\n",
      "Feature 70: 0.018332\n",
      "Feature 71: 0.000000\n",
      "Feature 72: 0.000000\n",
      "Feature 73: 0.074876\n",
      "Feature 74: 0.000000\n",
      "Feature 75: 0.004429\n",
      "Feature 76: 0.002617\n",
      "Feature 77: 0.031354\n",
      "Feature 78: 0.000000\n",
      "Feature 79: 0.000000\n",
      "Feature 80: 0.000000\n",
      "Feature 81: 0.033931\n",
      "Feature 82: 0.010400\n",
      "Feature 83: 0.019373\n",
      "Feature 84: 0.000000\n",
      "Feature 85: 0.033191\n",
      "Feature 86: 0.000000\n",
      "Feature 87: 0.028745\n",
      "Feature 88: 0.000000\n",
      "Feature 89: 0.000000\n",
      "Feature 90: 0.000000\n",
      "Feature 91: 0.017698\n",
      "Feature 92: 0.129797\n",
      "Feature 93: 0.000000\n",
      "Feature 94: 0.002171\n",
      "Feature 95: 0.029995\n",
      "Feature 96: 0.000000\n",
      "Feature 97: 0.014428\n",
      "Feature 98: 0.000000\n",
      "Feature 99: 0.000000\n",
      "[0.0, 0.0, 0.0, 0.0, 0.0, 0.0, 0.0, 0.0, 0.0, 0.0, 0.0, 0.0, 0.0, 0.0, 0.0, 0.0, 0.0, 0.0, 0.0, 0.0, 0.0, 0.0, 0.0, 0.0, 0.0, 0.0, 0.0, 0.0, 0.0, 0.0, 0.0, 0.0, 0.0, 0.0, 0.0, 0.0, 0.0, 0.0, 0.0, 0.0, 0.0, 0.0, 0.0, 0.0, 0.0, 0.0021713283939157613, 0.0022617161791593787, 0.0026169599594543236, 0.002689368835120831, 0.002829079944537405, 0.0036884128803773564, 0.003983482835783203, 0.004307210952319895, 0.004429306988682491, 0.007579029504275692, 0.007849340866052934, 0.008083230830814525, 0.008130146660047188, 0.008732333573208795, 0.00938732496462924, 0.010399920696241516, 0.012848688661103225, 0.014427534181586932, 0.01656620545853249, 0.01740215847662352, 0.017697691278957706, 0.01796706631129741, 0.018194152130098118, 0.01833242026957027, 0.018639606838327882, 0.0193728530406716, 0.020390433027765997, 0.02136846830418282, 0.02223206448369286, 0.0226592483498127, 0.024816330308823797, 0.02520605377469698, 0.027969169015514606, 0.028745427182311545, 0.028967894063848476, 0.029994872220527213, 0.031228272351282893, 0.0313541600324454, 0.03319087520038311, 0.033530423880775206, 0.03393061988659696, 0.03470732963843304, 0.03838510118179039, 0.041779050134225226, 0.045484482291907824, 0.046071101437432205, 0.04732065615775882, 0.06479570344784369, 0.06917252453053013, 0.07165169905760616, 0.07432002406270177, 0.0748760463152296, 0.12979711825475615, 0.13769509513592038, 0.14619231754179118]\n"
     ]
    },
    {
     "data": {
      "image/png": "[encoded data removed]",
      "text/plain": [
       "<Figure size 432x288 with 1 Axes>"
      ]
     },
     "metadata": {
      "needs_background": "light"
     },
     "output_type": "display_data"
    }
   ],
   "source": [
    "from sklearn.feature_selection import mutual_info_regression\n",
    "\n",
    "def select_features(X_train, y_train, X_test):\n",
    "    fs = SelectKBest(score_func=mutual_info_regression, k=10)\n",
    "    fs.fit(X_train, y_train)\n",
    "    X_train_fs = fs.transform(X_train)\n",
    "    X_test_fs = fs.transform(X_test)\n",
    "    return X_train_fs, X_test_fs, fs\n",
    "\n",
    "# feature selection\n",
    "Xtrain_fs_m, Xtest_fs_m, fs_m = select_features(Xtrain, ytrain, Xtest)\n",
    "print(Xtrain_fs_m.shape)\n",
    "# what are scores for the features\n",
    "for i in range(len(fs_m.scores_)):\n",
    "    print('Feature %d: %f' % (i, fs_m.scores_[i]))\n",
    "print(sorted(fs_m.scores_))\n",
    "# plot the scores\n",
    "pyplot.bar([i for i in range(len(fs_m.scores_))], fs_m.scores_)\n",
    "pyplot.show()"
   ]
  },
  {
   "cell_type": "markdown",
   "id": "35c695d7",
   "metadata": {},
   "source": [
    "En el caso de usar mutual information, obtenemos las características 9, 24, 32, 36, 39, 40, 60, 66, 73 y 92."
   ]
  },
  {
   "cell_type": "markdown",
   "id": "db3c8dbb",
   "metadata": {
    "hidden": true
   },
   "source": [
    "### Modelo con todas las características\n",
    "\n",
    "Usar el modelo `LinearRegression()` y la métrica `mean_absolute_error`"
   ]
  },
  {
   "cell_type": "code",
   "execution_count": 47,
   "id": "640beb19",
   "metadata": {},
   "outputs": [
    {
     "name": "stdout",
     "output_type": "stream",
     "text": [
      "0.08569191074144228\n"
     ]
    }
   ],
   "source": [
    "from sklearn.metrics import mean_absolute_error\n",
    "from sklearn.linear_model import LinearRegression\n",
    "model = LinearRegression().fit(Xtrain, ytrain)\n",
    "print(mean_absolute_error(model.predict(Xtest), ytest))"
   ]
  },
  {
   "cell_type": "markdown",
   "id": "c0b6bf27",
   "metadata": {
    "heading_collapsed": true,
    "hidden": true
   },
   "source": [
    "### Modelo con las 10 mejores características obtenidas con la regresión"
   ]
  },
  {
   "cell_type": "code",
   "execution_count": 48,
   "id": "dd24b8a0",
   "metadata": {},
   "outputs": [
    {
     "name": "stdout",
     "output_type": "stream",
     "text": [
      "2.739756085615071\n"
     ]
    }
   ],
   "source": [
    "model = LinearRegression().fit(Xtrain_fs, ytrain)\n",
    "print(mean_absolute_error(ytest, model.predict(Xtest_fs)))"
   ]
  },
  {
   "cell_type": "markdown",
   "id": "fb476800",
   "metadata": {
    "heading_collapsed": true,
    "hidden": true
   },
   "source": [
    "### Modelo con las 10 mejores características obtenidas con *mutual information*"
   ]
  },
  {
   "cell_type": "code",
   "execution_count": 49,
   "id": "7cb802d1",
   "metadata": {},
   "outputs": [
    {
     "name": "stdout",
     "output_type": "stream",
     "text": [
      "68.20958123062528\n"
     ]
    }
   ],
   "source": [
    "model = LinearRegression().fit(Xtrain_fs_m, ytrain)\n",
    "print(mean_absolute_error(ytest, model.predict(Xtest_fs_m)))"
   ]
  },
  {
   "cell_type": "markdown",
   "id": "80e4fd53",
   "metadata": {},
   "source": [
    "A diferencia que en el caso de clasificación, el modelo con todas las características produce mejores resultados que los que tienen solo 10 características."
   ]
  },
  {
   "cell_type": "markdown",
   "id": "6cc2ab19",
   "metadata": {
    "heading_collapsed": true,
    "hidden": true
   },
   "source": [
    "### Comparativa de resultados y comentarios"
   ]
  },
  {
   "cell_type": "code",
   "execution_count": 50,
   "id": "d4a25a4d",
   "metadata": {},
   "outputs": [],
   "source": [
    "def select_features(X_train, y_train, X_test, func, k=10):\n",
    "    fs = SelectKBest(score_func=func, k=k)\n",
    "    fs.fit(X_train, y_train)\n",
    "    X_train_fs = fs.transform(X_train)\n",
    "    X_test_fs = fs.transform(X_test)\n",
    "    return X_train_fs, X_test_fs, fs\n",
    "\n",
    "l = []\n",
    "model = LinearRegression()\n",
    "\n",
    "for k in range(1, 11):\n",
    "\n",
    "    # feature selection\n",
    "    Xtrain_fs_f, Xtest_fs_f, fs_f = select_features(Xtrain, \n",
    "                                                ytrain, \n",
    "                                                Xtest, f_regression, k)\n",
    "    # fit the model using MI\n",
    "    model.fit(Xtrain_fs_f, ytrain)\n",
    "    # evaluate the model\n",
    "    yhat = model.predict(Xtest_fs_f)\n",
    "    # evaluate predictions\n",
    "    error = mean_absolute_error(ytest, yhat)\n",
    "\n",
    "    # feature selection\n",
    "    Xtrain_fs_m, Xtest_fs_m, fs_m = select_features(Xtrain, \n",
    "                                                ytrain, \n",
    "                                                Xtest,\n",
    "                                                mutual_info_regression,\n",
    "                                                k)\n",
    "\n",
    "    # fit the model using mutual information\n",
    "    model.fit(Xtrain_fs_m, ytrain)\n",
    "    # evaluate the model\n",
    "    yhat = model.predict(Xtest_fs_m)\n",
    "    # evaluate predictions\n",
    "    error_mi = mean_absolute_error(ytest, yhat)\n",
    "    l += [(k, error, error_mi)]"
   ]
  },
  {
   "cell_type": "code",
   "execution_count": 51,
   "id": "f4410ec4",
   "metadata": {},
   "outputs": [
    {
     "data": {
      "text/html": [
       "<div>\n",
       "<style scoped>\n",
       "    .dataframe tbody tr th:only-of-type {\n",
       "        vertical-align: middle;\n",
       "    }\n",
       "\n",
       "    .dataframe tbody tr th {\n",
       "        vertical-align: top;\n",
       "    }\n",
       "\n",
       "    .dataframe thead th {\n",
       "        text-align: right;\n",
       "    }\n",
       "</style>\n",
       "<table border=\"1\" class=\"dataframe\">\n",
       "  <thead>\n",
       "    <tr style=\"text-align: right;\">\n",
       "      <th></th>\n",
       "      <th>f</th>\n",
       "      <th>mutual info</th>\n",
       "    </tr>\n",
       "  </thead>\n",
       "  <tbody>\n",
       "    <tr>\n",
       "      <th>1</th>\n",
       "      <td>136.641332</td>\n",
       "      <td>148.782122</td>\n",
       "    </tr>\n",
       "    <tr>\n",
       "      <th>2</th>\n",
       "      <td>116.514517</td>\n",
       "      <td>125.054197</td>\n",
       "    </tr>\n",
       "    <tr>\n",
       "      <th>3</th>\n",
       "      <td>96.863183</td>\n",
       "      <td>96.863183</td>\n",
       "    </tr>\n",
       "    <tr>\n",
       "      <th>4</th>\n",
       "      <td>77.831844</td>\n",
       "      <td>97.133275</td>\n",
       "    </tr>\n",
       "    <tr>\n",
       "      <th>5</th>\n",
       "      <td>68.227554</td>\n",
       "      <td>78.286641</td>\n",
       "    </tr>\n",
       "    <tr>\n",
       "      <th>6</th>\n",
       "      <td>55.249695</td>\n",
       "      <td>78.727341</td>\n",
       "    </tr>\n",
       "    <tr>\n",
       "      <th>7</th>\n",
       "      <td>32.906988</td>\n",
       "      <td>78.833757</td>\n",
       "    </tr>\n",
       "    <tr>\n",
       "      <th>8</th>\n",
       "      <td>16.392450</td>\n",
       "      <td>68.258883</td>\n",
       "    </tr>\n",
       "    <tr>\n",
       "      <th>9</th>\n",
       "      <td>2.731532</td>\n",
       "      <td>68.209634</td>\n",
       "    </tr>\n",
       "    <tr>\n",
       "      <th>10</th>\n",
       "      <td>2.739756</td>\n",
       "      <td>68.209581</td>\n",
       "    </tr>\n",
       "  </tbody>\n",
       "</table>\n",
       "</div>"
      ],
      "text/plain": [
       "             f  mutual info\n",
       "1   136.641332   148.782122\n",
       "2   116.514517   125.054197\n",
       "3    96.863183    96.863183\n",
       "4    77.831844    97.133275\n",
       "5    68.227554    78.286641\n",
       "6    55.249695    78.727341\n",
       "7    32.906988    78.833757\n",
       "8    16.392450    68.258883\n",
       "9     2.731532    68.209634\n",
       "10    2.739756    68.209581"
      ]
     },
     "metadata": {},
     "output_type": "display_data"
    },
    {
     "data": {
      "image/png": "[encoded data removed]",
      "text/plain": [
       "<Figure size 432x288 with 1 Axes>"
      ]
     },
     "metadata": {
      "needs_background": "light"
     },
     "output_type": "display_data"
    }
   ],
   "source": [
    "df = pd.DataFrame({'f': [k for _, k, _ in l],\n",
    "                   'mutual info': [k for _, _, k in l]}, index=range(1,11))\n",
    "display(df)\n",
    "\n",
    "df.plot(style='o-', grid=True,\n",
    "        xticks=[i for i in range(1,11)],\n",
    "        title='Error vs. número de características', \n",
    "        xlabel='Número de características',\n",
    "        ylabel='mean absolute error')\n",
    "plt.show()"
   ]
  },
  {
   "cell_type": "markdown",
   "id": "6042d39a",
   "metadata": {},
   "source": [
    "Se observa que en los dos casos, a medida que se aumenta el número de características aumenta, el error absoluto medio es menor. Sin embargo, el error disminuye en mayor medida en el caso del estadístico F, llegando a valores bastante bajos comparados con los obtenidos con mutual information."
   ]
  }
 ],
 "metadata": {
  "kernelspec": {
   "display_name": "Python 3",
   "language": "python",
   "name": "python3"
  },
  "language_info": {
   "codemirror_mode": {
    "name": "ipython",
    "version": 3
   },
   "file_extension": ".py",
   "mimetype": "text/x-python",
   "name": "python",
   "nbconvert_exporter": "python",
   "pygments_lexer": "ipython3",
   "version": "3.8.8"
  },
  "toc": {
   "base_numbering": 1,
   "nav_menu": {
    "height": "144.5px",
    "width": "383.234375px"
   },
   "number_sections": true,
   "sideBar": true,
   "skip_h1_title": false,
   "title_cell": "Table of Contents",
   "title_sidebar": "Contents",
   "toc_cell": false,
   "toc_position": {},
   "toc_section_display": true,
   "toc_window_display": false
  }
 },
 "nbformat": 4,
 "nbformat_minor": 5
}
